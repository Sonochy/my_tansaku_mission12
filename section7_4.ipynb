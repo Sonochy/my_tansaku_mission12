{
  "nbformat": 4,
  "nbformat_minor": 0,
  "metadata": {
    "colab": {
      "name": "section7_4.ipynb",
      "provenance": [],
      "collapsed_sections": [],
      "include_colab_link": true
    },
    "kernelspec": {
      "name": "python3",
      "display_name": "Python 3"
    },
    "accelerator": "TPU"
  },
  "cells": [
    {
      "cell_type": "markdown",
      "metadata": {
        "id": "view-in-github",
        "colab_type": "text"
      },
      "source": [
        "<a href=\"https://colab.research.google.com/github/Sonochy/my_tansaku_mission12/blob/master/section7_4.ipynb\" target=\"_parent\"><img src=\"https://colab.research.google.com/assets/colab-badge.svg\" alt=\"Open In Colab\"/></a>"
      ]
    },
    {
      "cell_type": "code",
      "metadata": {
        "id": "tg97Lwr3Is3W",
        "colab_type": "code",
        "colab": {}
      },
      "source": [
        "# Copyright (c) 2017 Max deGroot, Ellis Brown\n",
        "# Released under the MIT license\n",
        "# https://github.com/amdegroot/ssd.pytorch\n",
        "# Updated by: Takuya Mouri"
      ],
      "execution_count": 0,
      "outputs": []
    },
    {
      "cell_type": "code",
      "metadata": {
        "id": "ukRAb4TDYQBQ",
        "colab_type": "code",
        "colab": {}
      },
      "source": [
        "## バージョンを指定する場合、セルをコメントアウトしてください。\n",
        "#!pip install torch==0.4.1\n",
        "#!pip install torchvision==0.2.1\n",
        "#!pip install numpy==1.14.6\n",
        "#!pip install matplotlib==2.1.2\n",
        "#!pip install Pillow==5.0.0"
      ],
      "execution_count": 0,
      "outputs": []
    },
    {
      "cell_type": "code",
      "metadata": {
        "id": "36x7-x89zFWm",
        "colab_type": "code",
        "outputId": "43dcd837-8420-4b8e-d822-71a9fc0261e2",
        "colab": {
          "base_uri": "https://localhost:8080/",
          "height": 35
        }
      },
      "source": [
        "# version確認\n",
        "import torch\n",
        "print(torch.__version__)"
      ],
      "execution_count": 0,
      "outputs": [
        {
          "output_type": "stream",
          "text": [
            "1.4.0\n"
          ],
          "name": "stdout"
        }
      ]
    },
    {
      "cell_type": "code",
      "metadata": {
        "id": "jjjwuq-qMBJP",
        "colab_type": "code",
        "outputId": "d0f2f3f0-3864-4647-9a13-d9b725da790b",
        "colab": {
          "base_uri": "https://localhost:8080/",
          "height": 35
        }
      },
      "source": [
        "# GPUの接続\n",
        "import torch\n",
        "torch.cuda.is_available()"
      ],
      "execution_count": 0,
      "outputs": [
        {
          "output_type": "execute_result",
          "data": {
            "text/plain": [
              "False"
            ]
          },
          "metadata": {
            "tags": []
          },
          "execution_count": 4
        }
      ]
    },
    {
      "cell_type": "markdown",
      "metadata": {
        "id": "PWp4OFE_MFQR",
        "colab_type": "text"
      },
      "source": [
        "# Google Driveへのマウント（Colab利用時のみ）"
      ]
    },
    {
      "cell_type": "code",
      "metadata": {
        "id": "ibiiS_A4nJ_k",
        "colab_type": "code",
        "outputId": "31e159e3-ab42-4e94-ee6b-7f81e5fd1516",
        "colab": {
          "base_uri": "https://localhost:8080/",
          "height": 127
        }
      },
      "source": [
        "# Google Driveにマウント\n",
        "from google.colab import drive\n",
        "drive.mount('/content/gdrive')"
      ],
      "execution_count": 0,
      "outputs": [
        {
          "output_type": "stream",
          "text": [
            "Go to this URL in a browser: https://accounts.google.com/o/oauth2/auth?client_id=947318989803-6bn6qk8qdgf4n4g3pfee6491hc0brc4i.apps.googleusercontent.com&redirect_uri=urn%3aietf%3awg%3aoauth%3a2.0%3aoob&response_type=code&scope=email%20https%3a%2f%2fwww.googleapis.com%2fauth%2fdocs.test%20https%3a%2f%2fwww.googleapis.com%2fauth%2fdrive%20https%3a%2f%2fwww.googleapis.com%2fauth%2fdrive.photos.readonly%20https%3a%2f%2fwww.googleapis.com%2fauth%2fpeopleapi.readonly\n",
            "\n",
            "Enter your authorization code:\n",
            "··········\n",
            "Mounted at /content/gdrive\n"
          ],
          "name": "stdout"
        }
      ]
    },
    {
      "cell_type": "code",
      "metadata": {
        "id": "wUvW0tiznVy5",
        "colab_type": "code",
        "outputId": "7763f6ef-dfeb-4c9f-bda1-283f75dea05d",
        "colab": {
          "base_uri": "https://localhost:8080/",
          "height": 53
        }
      },
      "source": [
        "# フォルダ移動\n",
        "cd /content/gdrive/'My Drive'/'Colab Notebooks'/pytorch_handbook/chapter7"
      ],
      "execution_count": 0,
      "outputs": [
        {
          "output_type": "stream",
          "text": [
            "[Errno 2] No such file or directory: '/content/gdrive/My Drive/Colab Notebooks/pytorch_handbook/chapter7'\n",
            "/content\n"
          ],
          "name": "stdout"
        }
      ]
    },
    {
      "cell_type": "code",
      "metadata": {
        "id": "Mgu9TLgsNvcW",
        "colab_type": "code",
        "outputId": "8e90dffe-d3f2-471c-adcd-5a6c76e64fc5",
        "colab": {
          "base_uri": "https://localhost:8080/",
          "height": 35
        }
      },
      "source": [
        "# ファイル名を表示\n",
        "!ls"
      ],
      "execution_count": 0,
      "outputs": [
        {
          "output_type": "stream",
          "text": [
            "gdrive\tsample_data\n"
          ],
          "name": "stdout"
        }
      ]
    },
    {
      "cell_type": "markdown",
      "metadata": {
        "id": "OIEKTtxSN3xL",
        "colab_type": "text"
      },
      "source": [
        "# ベースネットVGG-16のパラメータをダウンロード（フォルダweights未格納時）"
      ]
    },
    {
      "cell_type": "code",
      "metadata": {
        "id": "QjoaVYNIVmSq",
        "colab_type": "code",
        "outputId": "71bd9eb5-75fb-443a-999f-56427d2f9dbf",
        "colab": {
          "base_uri": "https://localhost:8080/",
          "height": 215
        }
      },
      "source": [
        "# ベースネットワークのパラメータファイルをダウンロード\n",
        "!wget https://s3.amazonaws.com/amdegroot-models/vgg16_reducedfc.pth"
      ],
      "execution_count": 0,
      "outputs": [
        {
          "output_type": "stream",
          "text": [
            "--2020-03-09 11:52:29--  https://s3.amazonaws.com/amdegroot-models/vgg16_reducedfc.pth\n",
            "Resolving s3.amazonaws.com (s3.amazonaws.com)... 52.217.11.78\n",
            "Connecting to s3.amazonaws.com (s3.amazonaws.com)|52.217.11.78|:443... connected.\n",
            "HTTP request sent, awaiting response... 200 OK\n",
            "Length: 81938914 (78M) [binary/octet-stream]\n",
            "Saving to: ‘vgg16_reducedfc.pth’\n",
            "\n",
            "vgg16_reducedfc.pth 100%[===================>]  78.14M  62.8MB/s    in 1.2s    \n",
            "\n",
            "2020-03-09 11:52:31 (62.8 MB/s) - ‘vgg16_reducedfc.pth’ saved [81938914/81938914]\n",
            "\n"
          ],
          "name": "stdout"
        }
      ]
    },
    {
      "cell_type": "code",
      "metadata": {
        "id": "iRyJbVdzoEm6",
        "colab_type": "code",
        "colab": {}
      },
      "source": [
        "import os\n",
        "# フォルダweights未作成の場合に作成\n",
        "if not os.path.exists('weights/'):\n",
        "    os.mkdir('weights/')"
      ],
      "execution_count": 0,
      "outputs": []
    },
    {
      "cell_type": "code",
      "metadata": {
        "id": "da-ySmBbpIBa",
        "colab_type": "code",
        "colab": {}
      },
      "source": [
        "# パラメータファイルをフォルダweightsに移動\n",
        "!mv vgg16_reducedfc.pth weights"
      ],
      "execution_count": 0,
      "outputs": []
    },
    {
      "cell_type": "markdown",
      "metadata": {
        "id": "RGCwuMMVOeNK",
        "colab_type": "text"
      },
      "source": [
        "# データセットVOC2007(0.9GB)のダウンロード（フォルダVOCdevkit未格納時）"
      ]
    },
    {
      "cell_type": "code",
      "metadata": {
        "id": "Z-JsUnPoG6Y_",
        "colab_type": "code",
        "outputId": "0677a34b-73fa-4539-9fc0-1404e27f1c4b",
        "colab": {
          "base_uri": "https://localhost:8080/",
          "height": 413
        }
      },
      "source": [
        "# データセットVOC2007をダウンロード \n",
        "!wget http://host.robots.ox.ac.uk/pascal/VOC/voc2007/VOCtrainval_06-Nov-2007.tar\n",
        "!tar xf VOCtrainval_06-Nov-2007.tar\n",
        "\n",
        "!wget http://host.robots.ox.ac.uk/pascal/VOC/voc2007/VOCtest_06-Nov-2007.tar\n",
        "!tar xf VOCtest_06-Nov-2007.tar"
      ],
      "execution_count": 0,
      "outputs": [
        {
          "output_type": "stream",
          "text": [
            "--2020-03-09 11:52:33--  http://host.robots.ox.ac.uk/pascal/VOC/voc2007/VOCtrainval_06-Nov-2007.tar\n",
            "Resolving host.robots.ox.ac.uk (host.robots.ox.ac.uk)... 129.67.94.152\n",
            "Connecting to host.robots.ox.ac.uk (host.robots.ox.ac.uk)|129.67.94.152|:80... connected.\n",
            "HTTP request sent, awaiting response... 200 OK\n",
            "Length: 460032000 (439M) [application/x-tar]\n",
            "Saving to: ‘VOCtrainval_06-Nov-2007.tar’\n",
            "\n",
            "VOCtrainval_06-Nov- 100%[===================>] 438.72M  12.4MB/s    in 36s     \n",
            "\n",
            "2020-03-09 11:53:09 (12.3 MB/s) - ‘VOCtrainval_06-Nov-2007.tar’ saved [460032000/460032000]\n",
            "\n",
            "--2020-03-09 11:53:13--  http://host.robots.ox.ac.uk/pascal/VOC/voc2007/VOCtest_06-Nov-2007.tar\n",
            "Resolving host.robots.ox.ac.uk (host.robots.ox.ac.uk)... 129.67.94.152\n",
            "Connecting to host.robots.ox.ac.uk (host.robots.ox.ac.uk)|129.67.94.152|:80... connected.\n",
            "HTTP request sent, awaiting response... 200 OK\n",
            "Length: 451020800 (430M) [application/x-tar]\n",
            "Saving to: ‘VOCtest_06-Nov-2007.tar’\n",
            "\n",
            "VOCtest_06-Nov-2007 100%[===================>] 430.13M  11.1MB/s    in 39s     \n",
            "\n",
            "2020-03-09 11:53:52 (11.1 MB/s) - ‘VOCtest_06-Nov-2007.tar’ saved [451020800/451020800]\n",
            "\n"
          ],
          "name": "stdout"
        }
      ]
    },
    {
      "cell_type": "markdown",
      "metadata": {
        "id": "IWnR9nr1ledy",
        "colab_type": "text"
      },
      "source": [
        "# データセットVOC2012(1.9GB)のダウンロード（フォルダVOCdevkit未格納時）"
      ]
    },
    {
      "cell_type": "code",
      "metadata": {
        "id": "Jyjyc5vTHpwk",
        "colab_type": "code",
        "outputId": "4cd45312-dd41-443e-ce86-3eb9f8e3e4e2",
        "colab": {
          "base_uri": "https://localhost:8080/",
          "height": 173
        }
      },
      "source": [
        "# データセットVOC2012をダウンロード \n",
        "!wget http://host.robots.ox.ac.uk/pascal/VOC/voc2012/VOCtrainval_11-May-2012.tar\n",
        "!tar xf VOCtrainval_11-May-2012.tar"
      ],
      "execution_count": 0,
      "outputs": [
        {
          "output_type": "stream",
          "text": [
            "--2020-03-09 11:53:56--  http://host.robots.ox.ac.uk/pascal/VOC/voc2012/VOCtrainval_11-May-2012.tar\n",
            "Resolving host.robots.ox.ac.uk (host.robots.ox.ac.uk)... 129.67.94.152\n",
            "Connecting to host.robots.ox.ac.uk (host.robots.ox.ac.uk)|129.67.94.152|:80... connected.\n",
            "HTTP request sent, awaiting response... 200 OK\n",
            "Length: 1999639040 (1.9G) [application/x-tar]\n",
            "Saving to: ‘VOCtrainval_11-May-2012.tar’\n",
            "\n",
            "inval_11-May-2012.t   1%[                    ]  31.78M  9.42MB/s    eta 3m 23s "
          ],
          "name": "stdout"
        }
      ]
    },
    {
      "cell_type": "markdown",
      "metadata": {
        "id": "Byf3Z27lO1M6",
        "colab_type": "text"
      },
      "source": [
        "# SSDネットワークの学習"
      ]
    },
    {
      "cell_type": "code",
      "metadata": {
        "id": "FNoiaSbinwGP",
        "colab_type": "code",
        "colab": {}
      },
      "source": [
        "# ファイル名を表示\n",
        "!ls"
      ],
      "execution_count": 0,
      "outputs": []
    },
    {
      "cell_type": "code",
      "metadata": {
        "id": "icr3Bcpet_cG",
        "colab_type": "code",
        "colab": {}
      },
      "source": [
        "from data import *\n",
        "from utils.augmentations import SSDAugmentation\n",
        "from layers.modules import MultiBoxLoss\n",
        "from ssd import build_ssd\n",
        "import os\n",
        "import sys\n",
        "import time\n",
        "import torch\n",
        "import torch.nn as nn\n",
        "import torch.optim as optim\n",
        "import torch.backends.cudnn as cudnn\n",
        "import torch.nn.init as init\n",
        "import torch.utils.data as data\n",
        "import numpy as np\n",
        "import argparse"
      ],
      "execution_count": 0,
      "outputs": []
    },
    {
      "cell_type": "code",
      "metadata": {
        "id": "WiQV5Z6KQj-V",
        "colab_type": "code",
        "colab": {}
      },
      "source": [
        "# 学習の再開時はargs['resume']にパラメータファイルを指定\n",
        "args = {'dataset':'VOC',\n",
        "        'basenet':'vgg16_reducedfc.pth',\n",
        "        'batch_size':12,\n",
        "        'resume':'',\n",
        "        'start_iter':0,\n",
        "        'num_workers':4,\n",
        "        'cuda':True,\n",
        "        'lr':5e-4,\n",
        "        'momentum':0.9,\n",
        "        'weight_decay':5e-4,\n",
        "        'gamma':0.1,\n",
        "        'save_folder':'weights/'\n",
        "       }"
      ],
      "execution_count": 0,
      "outputs": []
    },
    {
      "cell_type": "code",
      "metadata": {
        "id": "oWYEDUASQuhU",
        "colab_type": "code",
        "colab": {}
      },
      "source": [
        "# Tensor作成時のデフォルトにGPU Tensorを設定\n",
        "if torch.cuda.is_available():\n",
        "    if args['cuda']:\n",
        "        torch.set_default_tensor_type('torch.cuda.FloatTensor')\n",
        "    if not args['cuda']:\n",
        "        print(\"WARNING: It looks like you have a CUDA device, but aren't \" +\n",
        "              \"using CUDA.\\nRun with --cuda for optimal training speed.\")\n",
        "        torch.set_default_tensor_type('torch.FloatTensor')\n",
        "else:\n",
        "    torch.set_default_tensor_type('torch.FloatTensor')"
      ],
      "execution_count": 0,
      "outputs": []
    },
    {
      "cell_type": "code",
      "metadata": {
        "id": "-l99I9gTQ3bq",
        "colab_type": "code",
        "colab": {}
      },
      "source": [
        "# 訓練データの設定\n",
        "cfg = voc\n",
        "dataset = VOCDetection(root=VOC_ROOT,\n",
        "                       transform=SSDAugmentation(cfg['min_dim'],\n",
        "                                                 MEANS))"
      ],
      "execution_count": 0,
      "outputs": []
    },
    {
      "cell_type": "code",
      "metadata": {
        "id": "y-yIlvtmQ5cC",
        "colab_type": "code",
        "colab": {}
      },
      "source": [
        "# ネットワークの定義\n",
        "ssd_net = build_ssd('train', cfg['min_dim'], cfg['num_classes'])\n",
        "device = 'cuda' if torch.cuda.is_available() else 'cpu'\n",
        "# ネットワークをGPUに転送\n",
        "net = ssd_net.to(device)"
      ],
      "execution_count": 0,
      "outputs": []
    },
    {
      "cell_type": "code",
      "metadata": {
        "id": "YwroXb1CT9TX",
        "colab_type": "code",
        "colab": {}
      },
      "source": [
        "# 学習の再開時はargs['resume']のパラメータをロード\n",
        "if args['resume']:\n",
        "    print('Resuming training, loading {}...'.format(args['resume']))\n",
        "    ssd_net.load_weights(args['save_folder'] + args['resume'])\n",
        "# 学習の開始時はargs['basenet']のパラメータをロード    \n",
        "else:\n",
        "    vgg_weights = torch.load(args['save_folder'] + args['basenet'])\n",
        "    print('Loading base network...')\n",
        "    ssd_net.vgg.load_state_dict(vgg_weights)"
      ],
      "execution_count": 0,
      "outputs": []
    },
    {
      "cell_type": "code",
      "metadata": {
        "id": "hiqc2gTuaSnF",
        "colab_type": "code",
        "colab": {}
      },
      "source": [
        "# ネットワークのモジュールリストを出力\n",
        "print(net)"
      ],
      "execution_count": 0,
      "outputs": []
    },
    {
      "cell_type": "code",
      "metadata": {
        "id": "RHAfsL58dD-e",
        "colab_type": "code",
        "colab": {}
      },
      "source": [
        "if args['cuda']:\n",
        "    net = torch.nn.DataParallel(ssd_net)\n",
        "    cudnn.benchmark = True"
      ],
      "execution_count": 0,
      "outputs": []
    },
    {
      "cell_type": "code",
      "metadata": {
        "id": "FJLfVkaFv1Ef",
        "colab_type": "code",
        "colab": {}
      },
      "source": [
        "def adjust_learning_rate(optimizer, gamma, step):\n",
        "    \"\"\"Sets the learning rate to the initial LR decayed by 10 at every\n",
        "        specified step\n",
        "    # Adapted from PyTorch Imagenet example:\n",
        "    # https://github.com/pytorch/examples/blob/master/imagenet/main.py\n",
        "    \"\"\"\n",
        "    lr = args['lr'] * (gamma ** (step))\n",
        "    for param_group in optimizer.param_groups:\n",
        "        param_group['lr'] = lr\n",
        "\n",
        "\n",
        "def xavier(param):\n",
        "    init.xavier_uniform_(param)\n",
        "\n",
        "\n",
        "def weights_init(m):\n",
        "    if isinstance(m, nn.Conv2d):\n",
        "        xavier(m.weight.data)\n",
        "        m.bias.data.zero_()"
      ],
      "execution_count": 0,
      "outputs": []
    },
    {
      "cell_type": "code",
      "metadata": {
        "id": "RoXXclmoUMxB",
        "colab_type": "code",
        "colab": {}
      },
      "source": [
        "# 新規モデル学習時は追加ネットワークの畳み込み、位置推定、クラス分類の畳み込みパラメータを初期化する\n",
        "if not args['resume']:\n",
        "    print('Initializing weights...')\n",
        "    # initialize newly added layers' weights with xavier method\n",
        "    ssd_net.extras.apply(weights_init)\n",
        "    ssd_net.loc.apply(weights_init)\n",
        "    ssd_net.conf.apply(weights_init)"
      ],
      "execution_count": 0,
      "outputs": []
    },
    {
      "cell_type": "code",
      "metadata": {
        "id": "Jxv64mg77una",
        "colab_type": "code",
        "colab": {}
      },
      "source": [
        "# 損失関数の設定\n",
        "criterion = MultiBoxLoss(cfg['num_classes'], 0.5, True, 0, True, 3, 0.5,\n",
        "                         False, args['cuda'])"
      ],
      "execution_count": 0,
      "outputs": []
    },
    {
      "cell_type": "code",
      "metadata": {
        "id": "6CYNS2LSUWCy",
        "colab_type": "code",
        "colab": {}
      },
      "source": [
        "# 最適化パラメータの設定\n",
        "optimizer = optim.SGD(net.parameters(), lr=args['lr'], momentum=args['momentum'],\n",
        "                      weight_decay=args['weight_decay'])"
      ],
      "execution_count": 0,
      "outputs": []
    },
    {
      "cell_type": "code",
      "metadata": {
        "id": "04iQnv9rUa3y",
        "colab_type": "code",
        "colab": {}
      },
      "source": [
        "# 訓練モード\n",
        "net.train()\n",
        "# loss counters\n",
        "loc_loss = 0\n",
        "conf_loss = 0\n",
        "epoch = 0\n",
        "print('Loading the dataset...')\n",
        "\n",
        "epoch_size = len(dataset) // args['batch_size']\n",
        "print('dataset_size', len(dataset))\n",
        "print('epoch_size', epoch_size)\n",
        "print('Training SSD on:', dataset.name)\n",
        "print('Using the specified args:')\n",
        "print(args)\n",
        "\n",
        "step_index = 0"
      ],
      "execution_count": 0,
      "outputs": []
    },
    {
      "cell_type": "code",
      "metadata": {
        "id": "5-RZGtOwUdtT",
        "colab_type": "code",
        "colab": {}
      },
      "source": [
        "# 訓練データのデータローダへの設定\n",
        "data_loader = data.DataLoader(dataset, args['batch_size'],\n",
        "                              num_workers=args['num_workers'],\n",
        "                              shuffle=True, collate_fn=detection_collate,\n",
        "                              pin_memory=True)"
      ],
      "execution_count": 0,
      "outputs": []
    },
    {
      "cell_type": "code",
      "metadata": {
        "id": "U1fd8Y2dUnGY",
        "colab_type": "code",
        "colab": {}
      },
      "source": [
        "# 学習の開始\n",
        "batch_iterator = None\n",
        "# iterationでループして、cfg['max_iter']まで学習する\n",
        "for iteration in range(args['start_iter'], cfg['max_iter']):\n",
        "    # 学習開始時または1epoch終了後にdata_loaderから訓練データをロードする\n",
        "    if (not batch_iterator) or (iteration % epoch_size ==0):\n",
        "        batch_iterator = iter(data_loader)\n",
        "        loc_loss = 0\n",
        "        conf_loss = 0\n",
        "        epoch += 1\n",
        "\n",
        "    if iteration in cfg['lr_steps']:\n",
        "        step_index += 1\n",
        "        adjust_learning_rate(optimizer, args['gamma'], step_index)\n",
        "        \n",
        "    # load train data\n",
        "    # バッチサイズ分の訓練データをload\n",
        "    images, targets = next(batch_iterator)\n",
        "    \n",
        "    # 画像をGPUに転送\n",
        "    images = images.to(device)\n",
        "    # アノテーションをGPUに転送    \n",
        "    targets = [ann.to(device) for ann in targets]\n",
        "\n",
        "    # forward\n",
        "    t0 = time.time()\n",
        "    # 順伝播の計算\n",
        "    out = net(images)\n",
        "    # 勾配の初期化\n",
        "    optimizer.zero_grad()\n",
        "    # 損失関数の計算\n",
        "    loss_l, loss_c = criterion(out, targets)\n",
        "    loss = loss_l + loss_c\n",
        "    # 勾配の計算\n",
        "    loss.backward()\n",
        "    # パラメータの更新\n",
        "    optimizer.step()\n",
        "    t1 = time.time()\n",
        "    # 損失関数の更新\n",
        "    loc_loss += loss_l.item()\n",
        "    conf_loss += loss_c.item()\n",
        "    \n",
        "    #ログの出力\n",
        "    if iteration % 10 == 0:\n",
        "        print('timer: %.4f sec.' % (t1 - t0))\n",
        "        print('iter ' + repr(iteration) + ' || Loss: %.4f ||' % (loss.item()), end=' ')\n",
        "\n",
        "# 学習済みモデルの保存\n",
        "torch.save(ssd_net.state_dict(),\n",
        "           args['save_folder'] + '' + args['dataset'] + '.pth')"
      ],
      "execution_count": 0,
      "outputs": []
    },
    {
      "cell_type": "code",
      "metadata": {
        "id": "O4ILdWUja2B4",
        "colab_type": "code",
        "colab": {}
      },
      "source": [
        ""
      ],
      "execution_count": 0,
      "outputs": []
    }
  ]
}